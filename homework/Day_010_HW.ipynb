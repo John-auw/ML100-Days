{
  "nbformat": 4,
  "nbformat_minor": 0,
  "metadata": {
    "colab": {
      "name": "Day_010_HW.ipynb",
      "version": "0.3.2",
      "provenance": [],
      "include_colab_link": true
    },
    "language_info": {
      "codemirror_mode": {
        "name": "ipython",
        "version": 3
      },
      "file_extension": ".py",
      "mimetype": "text/x-python",
      "name": "python",
      "nbconvert_exporter": "python",
      "pygments_lexer": "ipython3",
      "version": "3.6.1"
    },
    "kernelspec": {
      "display_name": "Python 3",
      "language": "python",
      "name": "python3"
    }
  },
  "cells": [
    {
      "cell_type": "markdown",
      "metadata": {
        "id": "view-in-github",
        "colab_type": "text"
      },
      "source": [
        "<a href=\"https://colab.research.google.com/github/John-auw/ML100-Days/blob/master/homework/Day_010_HW.ipynb\" target=\"_parent\"><img src=\"https://colab.research.google.com/assets/colab-badge.svg\" alt=\"Open In Colab\"/></a>"
      ]
    },
    {
      "cell_type": "code",
      "metadata": {
        "id": "LICdEJDnW9GM",
        "colab_type": "code",
        "colab": {
          "base_uri": "https://localhost:8080/",
          "height": 34
        },
        "outputId": "8dd51ce0-5dbc-4916-eeb1-9a1eb155a805"
      },
      "source": [
        "# Import 需要的套件\n",
        "import os\n",
        "import numpy as np\n",
        "import pandas as pd\n",
        "\n",
        "import matplotlib.pyplot as plt\n",
        "%matplotlib inline\n",
        "\n",
        "import requests\n",
        "\n",
        "url = 'http://ai100.cupoy.com/file-download/part01/application_train.csv'\n",
        "r = requests.get(url, allow_redirects=True)\n",
        "open('application_train.csv', 'wb').write(r.content)\n",
        "\n",
        "\n",
        "url = 'http://ai100.cupoy.com/file-download/part01/application_test.csv'\n",
        "r = requests.get(url, allow_redirects=True)\n",
        "open('application_test.csv', 'wb').write(r.content)"
      ],
      "execution_count": 1,
      "outputs": [
        {
          "output_type": "execute_result",
          "data": {
            "text/plain": [
              "26567651"
            ]
          },
          "metadata": {
            "tags": []
          },
          "execution_count": 1
        }
      ]
    },
    {
      "cell_type": "code",
      "metadata": {
        "id": "AlATMua1W9GX",
        "colab_type": "code",
        "colab": {}
      },
      "source": [
        "# 設定 data_path\n",
        "dir_data = './'\n",
        "f_app_train = os.path.join(dir_data, 'application_train.csv')\n",
        "f_app_test = os.path.join(dir_data, 'application_test.csv')\n",
        "\n",
        "app_train = pd.read_csv(f_app_train)\n",
        "app_test = pd.read_csv(f_app_test)\n",
        "\n",
        "from sklearn.preprocessing import LabelEncoder\n",
        "\n",
        "# Create a label encoder object\n",
        "le = LabelEncoder()\n",
        "le_count = 0\n",
        "\n",
        "# Iterate through the columns\n",
        "for col in app_train:\n",
        "    if app_train[col].dtype == 'object':\n",
        "        # If 2 or fewer unique categories\n",
        "        if len(list(app_train[col].unique())) <= 2:\n",
        "            # Train on the training data\n",
        "            le.fit(app_train[col])\n",
        "            # Transform both training and testing data\n",
        "            app_train[col] = le.transform(app_train[col])\n",
        "            app_test[col] = le.transform(app_test[col])\n",
        "            \n",
        "            # Keep track of how many columns were label encoded\n",
        "            le_count += 1\n",
        "            \n",
        "app_train = pd.get_dummies(app_train)\n",
        "app_test = pd.get_dummies(app_test)\n",
        "\n",
        "# Create an anomalous flag column\n",
        "app_train['DAYS_EMPLOYED_ANOM'] = app_train[\"DAYS_EMPLOYED\"] == 365243\n",
        "app_train['DAYS_EMPLOYED'].replace({365243: np.nan}, inplace = True)\n",
        "# also apply to testing dataset\n",
        "app_test['DAYS_EMPLOYED_ANOM'] = app_test[\"DAYS_EMPLOYED\"] == 365243\n",
        "app_test[\"DAYS_EMPLOYED\"].replace({365243: np.nan}, inplace = True)\n",
        "\n",
        "# absolute the value of DAYS_BIRTH\n",
        "app_train['DAYS_BIRTH'] = abs(app_train['DAYS_BIRTH'])\n",
        "app_test['DAYS_BIRTH'] = abs(app_test['DAYS_BIRTH'])"
      ],
      "execution_count": 0,
      "outputs": []
    },
    {
      "cell_type": "markdown",
      "metadata": {
        "id": "CHoCxOVnW9Gc",
        "colab_type": "text"
      },
      "source": [
        "### 相關係數\n",
        "一樣，pandas 很貼心地讓我們可以非常容易計算相關係數"
      ]
    },
    {
      "cell_type": "code",
      "metadata": {
        "id": "3vGgwmOZW9Ge",
        "colab_type": "code",
        "colab": {}
      },
      "source": [
        "corr_target = app_train.corr()['TARGET']"
      ],
      "execution_count": 0,
      "outputs": []
    },
    {
      "cell_type": "markdown",
      "metadata": {
        "id": "x6bXYgskW9Gn",
        "colab_type": "text"
      },
      "source": [
        "## 練習時間\n",
        "列出目標 (TARGET) 與所有欄位之間相關係數，數值最大以及最小各 15 個\n",
        "\n",
        "通過相關係數的結果觀察有興趣的欄位與 TARGET 或其他欄位的相關係數，並嘗試找出有趣的訊息\n",
        "- 最好的方式當然是畫圖，舉例來說，我們知道  EXT_SOURCE_3 這個欄位和 TARGET 之間的相關係數是 -0.178919 (在已經這個資料集已經是最負的了！)，那我們可以 EXT_SOURCE_3  為 x 軸， TARGET 為 y 軸，把資料給畫出來"
      ]
    },
    {
      "cell_type": "code",
      "metadata": {
        "id": "t5lHzwuoW9Go",
        "colab_type": "code",
        "colab": {
          "base_uri": "https://localhost:8080/",
          "height": 595
        },
        "outputId": "3823426f-4f87-4262-dc98-fe3c3e4340b3"
      },
      "source": [
        "print('Max 15:')\n",
        "print(corr_target.sort_values(ascending=False).head(15))\n",
        "print('Min 15:')\n",
        "print(corr_target.sort_values(ascending=True).head(15))"
      ],
      "execution_count": 6,
      "outputs": [
        {
          "output_type": "stream",
          "text": [
            "Max 15:\n",
            "TARGET                                               1.000000\n",
            "DAYS_EMPLOYED                                        0.074958\n",
            "REGION_RATING_CLIENT_W_CITY                          0.060893\n",
            "REGION_RATING_CLIENT                                 0.058899\n",
            "NAME_INCOME_TYPE_Working                             0.057481\n",
            "DAYS_LAST_PHONE_CHANGE                               0.055218\n",
            "CODE_GENDER_M                                        0.054713\n",
            "DAYS_ID_PUBLISH                                      0.051457\n",
            "REG_CITY_NOT_WORK_CITY                               0.050994\n",
            "NAME_EDUCATION_TYPE_Secondary / secondary special    0.049824\n",
            "FLAG_EMP_PHONE                                       0.045982\n",
            "REG_CITY_NOT_LIVE_CITY                               0.044395\n",
            "FLAG_DOCUMENT_3                                      0.044346\n",
            "OCCUPATION_TYPE_Laborers                             0.043019\n",
            "DAYS_REGISTRATION                                    0.041975\n",
            "Name: TARGET, dtype: float64\n",
            "Min 15:\n",
            "EXT_SOURCE_3                           -0.178919\n",
            "EXT_SOURCE_2                           -0.160472\n",
            "EXT_SOURCE_1                           -0.155317\n",
            "DAYS_BIRTH                             -0.078239\n",
            "NAME_EDUCATION_TYPE_Higher education   -0.056593\n",
            "CODE_GENDER_F                          -0.054704\n",
            "NAME_INCOME_TYPE_Pensioner             -0.046209\n",
            "ORGANIZATION_TYPE_XNA                  -0.045987\n",
            "DAYS_EMPLOYED_ANOM                     -0.045987\n",
            "FLOORSMAX_AVG                          -0.044003\n",
            "FLOORSMAX_MEDI                         -0.043768\n",
            "FLOORSMAX_MODE                         -0.043226\n",
            "EMERGENCYSTATE_MODE_No                 -0.042201\n",
            "HOUSETYPE_MODE_block of flats          -0.040594\n",
            "AMT_GOODS_PRICE                        -0.039645\n",
            "Name: TARGET, dtype: float64\n"
          ],
          "name": "stdout"
        }
      ]
    },
    {
      "cell_type": "code",
      "metadata": {
        "id": "g42jzHRBYgvT",
        "colab_type": "code",
        "colab": {
          "base_uri": "https://localhost:8080/",
          "height": 311
        },
        "outputId": "45b5546e-0fcd-4bbd-8b40-dc1219776395"
      },
      "source": [
        "app_train.boxplot(column='EXT_SOURCE_3', by='TARGET')\n",
        "plt.suptitle('')\n",
        "plt.show()\n",
        "corr = np.corrcoef(\n",
        "  app_train[~app_train['EXT_SOURCE_3'].isnull()]['EXT_SOURCE_3'],\n",
        "  app_train[~app_train['EXT_SOURCE_3'].isnull()]['TARGET']\n",
        ")\n",
        "print('coorelation: %.4f' % corr[0][1])"
      ],
      "execution_count": 9,
      "outputs": [
        {
          "output_type": "display_data",
          "data": {
            "image/png": "[encoded data removed]",
            "text/plain": [
              "<Figure size 432x288 with 1 Axes>"
            ]
          },
          "metadata": {
            "tags": []
          }
        },
        {
          "output_type": "stream",
          "text": [
            "coorelation: -0.1789\n"
          ],
          "name": "stdout"
        }
      ]
    },
    {
      "cell_type": "code",
      "metadata": {
        "id": "UKeEamexZsfs",
        "colab_type": "code",
        "colab": {}
      },
      "source": [
        ""
      ],
      "execution_count": 0,
      "outputs": []
    }
  ]
}